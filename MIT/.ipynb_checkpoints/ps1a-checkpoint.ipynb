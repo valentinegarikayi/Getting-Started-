{
 "cells": [
  {
   "cell_type": "code",
   "execution_count": null,
   "metadata": {},
   "outputs": [
    {
     "name": "stdout",
     "output_type": "stream",
     "text": [
      "Test Case 1\n",
      ">>>\n",
      "Enter the cost of your dream home:1000000\n",
      "Enter your annual salary:120000\n",
      "Enter the percent of your salary to save, as a decimal:0.1\n",
      "Number of months: 183\n",
      "Test Case 2\n",
      ">>>\n",
      "Enter the cost of your dream home:500000\n",
      "Enter your annual salary:80000\n",
      "Enter the percent of your salary to save, as a decimal:0.15\n",
      "Number of months: 105\n",
      "Test Case 3\n",
      ">>>\n"
     ]
    }
   ],
   "source": [
    "Test_Case =0\n",
    "while True:\n",
    "    if Test_Case >=0:\n",
    "        Test_Case=Test_Case+1\n",
    "        print('Test Case',Test_Case)\n",
    "        print('>>>')\n",
    "    r=0.04\n",
    "    total_cost=float(input('Enter the cost of your dream home:'))# 1. Cost of dream home\n",
    "    annual_salary=float(input('Enter your annual salary:'))\n",
    "    monthly_salary=float(annual_salary/12) # Monthly salary\n",
    "    portion_down_payment=float(0.25*total_cost)# 2. Portion of the cost needed for a down payment\n",
    "    portion_saved=float(input('Enter the percent of your salary to save, as a decimal:'))#monthly savings\n",
    "    current_savings=0\n",
    "    counter=0\n",
    "    while current_savings <= portion_down_payment:\n",
    "            monthly_saving=monthly_salary*portion_saved\n",
    "            return_on_investment=current_savings*(r/12)\n",
    "            current_savings=current_savings+monthly_saving+return_on_investment\n",
    "            counter=counter+1\n",
    "    print('Number of months:',counter)"
   ]
  },
  {
   "cell_type": "code",
   "execution_count": null,
   "metadata": {},
   "outputs": [],
   "source": []
  },
  {
   "cell_type": "code",
   "execution_count": null,
   "metadata": {},
   "outputs": [],
   "source": []
  }
 ],
 "metadata": {
  "kernelspec": {
   "display_name": "Python 3",
   "language": "python",
   "name": "python3"
  },
  "language_info": {
   "codemirror_mode": {
    "name": "ipython",
    "version": 3
   },
   "file_extension": ".py",
   "mimetype": "text/x-python",
   "name": "python",
   "nbconvert_exporter": "python",
   "pygments_lexer": "ipython3",
   "version": "3.6.8"
  }
 },
 "nbformat": 4,
 "nbformat_minor": 2
}
