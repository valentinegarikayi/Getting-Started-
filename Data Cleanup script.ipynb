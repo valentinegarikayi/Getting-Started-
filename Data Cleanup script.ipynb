{
 "cells": [
  {
   "cell_type": "code",
   "execution_count": 7,
   "metadata": {},
   "outputs": [
    {
     "ename": "IndexError",
     "evalue": "list index out of range",
     "output_type": "error",
     "traceback": [
      "\u001b[0;31m---------------------------------------------------------------------------\u001b[0m",
      "\u001b[0;31mIndexError\u001b[0m                                Traceback (most recent call last)",
      "\u001b[0;32m<ipython-input-7-30ce651f37c5>\u001b[0m in \u001b[0;36m<module>\u001b[0;34m()\u001b[0m\n\u001b[1;32m     18\u001b[0m         \u001b[0;32mcontinue\u001b[0m\u001b[0;34m\u001b[0m\u001b[0m\n\u001b[1;32m     19\u001b[0m     \u001b[0;32mif\u001b[0m \u001b[0mx\u001b[0m\u001b[0;34m.\u001b[0m\u001b[0mstartswith\u001b[0m\u001b[0;34m(\u001b[0m\u001b[0;34m'Project :'\u001b[0m\u001b[0;34m)\u001b[0m\u001b[0;34m:\u001b[0m \u001b[0;31m#we have a new budget line\u001b[0m\u001b[0;34m\u001b[0m\u001b[0m\n\u001b[0;32m---> 20\u001b[0;31m         \u001b[0mnew_bline\u001b[0m \u001b[0;34m=\u001b[0m \u001b[0mx\u001b[0m\u001b[0;34m.\u001b[0m\u001b[0msplit\u001b[0m\u001b[0;34m(\u001b[0m\u001b[0;34m)\u001b[0m\u001b[0;34m[\u001b[0m\u001b[0;36m5\u001b[0m\u001b[0;34m]\u001b[0m\u001b[0;34m\u001b[0m\u001b[0m\n\u001b[0m\u001b[1;32m     21\u001b[0m         \u001b[0;31m#print(x, new_bline)\u001b[0m\u001b[0;34m\u001b[0m\u001b[0;34m\u001b[0m\u001b[0m\n\u001b[1;32m     22\u001b[0m         \u001b[0;31m#make dataframe from rows for last group and make a new list\u001b[0m\u001b[0;34m\u001b[0m\u001b[0;34m\u001b[0m\u001b[0m\n",
      "\u001b[0;31mIndexError\u001b[0m: list index out of range"
     ]
    }
   ],
   "source": [
    "import pandas as pd\n",
    "import csv\n",
    "import numpy as np\n",
    "file='Project report20180808.csv'\n",
    "cr =  csv.reader(open(file,'r'))\n",
    "#cr = list(cr)\n",
    "    \n",
    "data=[]\n",
    "cols = ['Date', 'Account', 'Reference', 'Description', 'Expenses', 'Income']\n",
    "d=[] #stores current group\n",
    "bu='001'\n",
    "for i in range(3):\n",
    "    next(cr)\n",
    "for row in cr:\n",
    "    #print(row)\n",
    "    x=row[0]  \n",
    "    if x in [''] or x.startswith('Net Expenses :'):\n",
    "        continue\n",
    "    if x.startswith('Project :'): #we have a new budget line        \n",
    "        new_bline = x.split()[5]\n",
    "        #print(x, new_bline)\n",
    "        #make dataframe from rows for last group and make a new list\n",
    "        df=pd.DataFrame(d,columns=cols)\n",
    "        df['budgetline'] = bu\n",
    "        #print(bu, len(df))\n",
    "        data.append(df)\n",
    "        d=[]\n",
    "        bu=new_bline # set current bline\n",
    "    else:\n",
    "        #add row to current group\n",
    "        d.append(row)\n",
    "#add last remaining group as well\n",
    "df=pd.DataFrame(d,columns=cols)\n",
    "df['budgetline'] = bu\n",
    "#print(bu, len(df))\n",
    "data.append(df)\n",
    "        \n",
    "result = pd.concat(data)\n",
    "result=result.convert_objects(convert_numeric=True)\n",
    "result['Income'] = result.Income.fillna(0)\n",
    "result['Expenses']=result.Expenses.fillna(0)\n",
    "result['net_expenses'] = result.Expenses-result.Income\n",
    "#print (result[500:550])\n",
    "result.to_csv('result.csv',index=False)\n",
    "display(result)"
   ]
  },
  {
   "cell_type": "code",
   "execution_count": 2,
   "metadata": {},
   "outputs": [],
   "source": [
    "result.to_csv('result.csv',index=False)"
   ]
  },
  {
   "cell_type": "code",
   "execution_count": null,
   "metadata": {},
   "outputs": [],
   "source": []
  }
 ],
 "metadata": {
  "kernelspec": {
   "display_name": "Python 3",
   "language": "python",
   "name": "python3"
  },
  "language_info": {
   "codemirror_mode": {
    "name": "ipython",
    "version": 3
   },
   "file_extension": ".py",
   "mimetype": "text/x-python",
   "name": "python",
   "nbconvert_exporter": "python",
   "pygments_lexer": "ipython3",
   "version": "3.6.3"
  }
 },
 "nbformat": 4,
 "nbformat_minor": 2
}
