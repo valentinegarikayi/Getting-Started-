{
 "cells": [
  {
   "cell_type": "code",
   "execution_count": 31,
   "metadata": {},
   "outputs": [
    {
     "name": "stdout",
     "output_type": "stream",
     "text": [
      "Welcome to the Cows and Bulls Game\n"
     ]
    }
   ],
   "source": [
    "import random\n",
    "print ('Welcome to the Cows and Bulls Game')#Welcome message\n",
    "#accepts the random number-this is defined as a variable\n",
    "#converts the number into a list"
   ]
  },
  {
   "cell_type": "code",
   "execution_count": null,
   "metadata": {},
   "outputs": [
    {
     "name": "stdout",
     "output_type": "stream",
     "text": [
      "Please guess a 4 digit number: 2234\n",
      "[2, 2, 3, 4]\n",
      "['Bull']\n",
      "[2, 2, 3, 4]\n",
      "['Bull', 'Bull']\n",
      "[2, 2, 3, 4]\n",
      "['Bull', 'Bull', 'Bull']\n",
      "[2, 2, 3, 4]\n",
      "['Bull', 'Bull', 'Bull', 'Bull']\n"
     ]
    }
   ],
   "source": [
    "while a != b:\n",
    "    count=0\n",
    "    a = [random.randint(1,4) for i in range(4)]\n",
    "    numb = input('Please guess a 4 digit number: ')\n",
    "    b = [int(i) for i in numb]\n",
    "    c = [] #this stores all the guesses\n",
    "    for i in zip(a,b):\n",
    "        if i[0] == i[1]:\n",
    "            c.append('Cow')\n",
    "        else:\n",
    "            c.append('Bull')\n",
    "            print(b)\n",
    "            print(c)\n",
    "            count=count+1\n",
    "else:\n",
    "\tprint('You guessed correctly and the game is over')\n"
   ]
  },
  {
   "cell_type": "code",
   "execution_count": null,
   "metadata": {
    "collapsed": true
   },
   "outputs": [],
   "source": []
  },
  {
   "cell_type": "code",
   "execution_count": null,
   "metadata": {
    "collapsed": true
   },
   "outputs": [],
   "source": []
  }
 ],
 "metadata": {
  "kernelspec": {
   "display_name": "Python 3",
   "language": "python",
   "name": "python3"
  },
  "language_info": {
   "codemirror_mode": {
    "name": "ipython",
    "version": 3
   },
   "file_extension": ".py",
   "mimetype": "text/x-python",
   "name": "python",
   "nbconvert_exporter": "python",
   "pygments_lexer": "ipython3",
   "version": "3.5.3"
  }
 },
 "nbformat": 4,
 "nbformat_minor": 2
}
