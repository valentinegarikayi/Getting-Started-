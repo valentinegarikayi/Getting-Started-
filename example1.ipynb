{
 "cells": [
  {
   "cell_type": "markdown",
   "metadata": {},
   "source": [
    "### This is written in markdown \n",
    "\n",
    "Double click to edit this..\n",
    "\n",
    "**bold**\n",
    "\n",
    " * bullet\n",
    " * points"
   ]
  },
  {
   "cell_type": "code",
   "execution_count": 15,
   "metadata": {
    "collapsed": true
   },
   "outputs": [],
   "source": [
    "#put your imports at the top\n",
    "\n",
    "import sys, os\n",
    "import pandas as pd\n",
    "%matplotlib inline\n",
    "import matplotlib.pyplot as plt\n",
    "from IPython.display import Image\n",
    "from IPython.core.display import HTML "
   ]
  },
  {
   "cell_type": "code",
   "execution_count": 18,
   "metadata": {},
   "outputs": [
    {
     "name": "stdout",
     "output_type": "stream",
     "text": [
      "1\n",
      "3\n",
      "5\n",
      "7\n",
      "9\n",
      "11\n",
      "13\n",
      "15\n",
      "17\n",
      "19\n",
      "21\n",
      "23\n",
      "25\n",
      "27\n",
      "29\n"
     ]
    }
   ],
   "source": [
    "#comments are the same\n",
    "#here is a loop\n",
    "\n",
    "for i in range(1,30,2):\n",
    "    print (i)"
   ]
  },
  {
   "cell_type": "code",
   "execution_count": 7,
   "metadata": {},
   "outputs": [
    {
     "name": "stdout",
     "output_type": "stream",
     "text": [
      "dict_keys(['b', 'a'])\n",
      "('b', 21)\n",
      "('a', 3)\n"
     ]
    }
   ],
   "source": [
    "d={'a':3,'b':21}\n",
    "print (d.keys())\n",
    "\n",
    "for i in d.items(): \n",
    "    print(i)"
   ]
  },
  {
   "cell_type": "code",
   "execution_count": 19,
   "metadata": {},
   "outputs": [],
   "source": [
    "#read a csv file using pandas\n",
    "df = pd.read_csv('test.csv')"
   ]
  },
  {
   "cell_type": "code",
   "execution_count": 20,
   "metadata": {},
   "outputs": [
    {
     "data": {
      "text/html": [
       "<div>\n",
       "<style>\n",
       "    .dataframe thead tr:only-child th {\n",
       "        text-align: right;\n",
       "    }\n",
       "\n",
       "    .dataframe thead th {\n",
       "        text-align: left;\n",
       "    }\n",
       "\n",
       "    .dataframe tbody tr th {\n",
       "        vertical-align: top;\n",
       "    }\n",
       "</style>\n",
       "<table border=\"1\" class=\"dataframe\">\n",
       "  <thead>\n",
       "    <tr style=\"text-align: right;\">\n",
       "      <th></th>\n",
       "      <th>a</th>\n",
       "      <th>b</th>\n",
       "      <th>c</th>\n",
       "      <th>d</th>\n",
       "      <th>e</th>\n",
       "      <th>label</th>\n",
       "      <th>date</th>\n",
       "    </tr>\n",
       "  </thead>\n",
       "  <tbody>\n",
       "    <tr>\n",
       "      <th>0</th>\n",
       "      <td>6.738</td>\n",
       "      <td>5.043</td>\n",
       "      <td>2.612</td>\n",
       "      <td>2.017</td>\n",
       "      <td>2.635</td>\n",
       "      <td>yellow</td>\n",
       "      <td>2014-01-01 00:00:00</td>\n",
       "    </tr>\n",
       "    <tr>\n",
       "      <th>1</th>\n",
       "      <td>8.032</td>\n",
       "      <td>6.030</td>\n",
       "      <td>2.984</td>\n",
       "      <td>0.287</td>\n",
       "      <td>3.522</td>\n",
       "      <td>blue</td>\n",
       "      <td>2014-01-01 01:00:00</td>\n",
       "    </tr>\n",
       "    <tr>\n",
       "      <th>2</th>\n",
       "      <td>7.288</td>\n",
       "      <td>4.429</td>\n",
       "      <td>3.178</td>\n",
       "      <td>-0.523</td>\n",
       "      <td>1.258</td>\n",
       "      <td>orange</td>\n",
       "      <td>2014-01-01 02:00:00</td>\n",
       "    </tr>\n",
       "    <tr>\n",
       "      <th>3</th>\n",
       "      <td>8.310</td>\n",
       "      <td>6.659</td>\n",
       "      <td>4.678</td>\n",
       "      <td>0.145</td>\n",
       "      <td>2.682</td>\n",
       "      <td>red</td>\n",
       "      <td>2014-01-01 03:00:00</td>\n",
       "    </tr>\n",
       "    <tr>\n",
       "      <th>4</th>\n",
       "      <td>9.695</td>\n",
       "      <td>8.344</td>\n",
       "      <td>2.891</td>\n",
       "      <td>2.202</td>\n",
       "      <td>4.723</td>\n",
       "      <td>blue</td>\n",
       "      <td>2014-01-01 04:00:00</td>\n",
       "    </tr>\n",
       "    <tr>\n",
       "      <th>5</th>\n",
       "      <td>6.006</td>\n",
       "      <td>4.946</td>\n",
       "      <td>3.837</td>\n",
       "      <td>0.237</td>\n",
       "      <td>4.955</td>\n",
       "      <td>blue</td>\n",
       "      <td>2014-01-01 05:00:00</td>\n",
       "    </tr>\n",
       "    <tr>\n",
       "      <th>6</th>\n",
       "      <td>7.843</td>\n",
       "      <td>7.378</td>\n",
       "      <td>5.291</td>\n",
       "      <td>0.762</td>\n",
       "      <td>4.695</td>\n",
       "      <td>red</td>\n",
       "      <td>2014-01-01 06:00:00</td>\n",
       "    </tr>\n",
       "    <tr>\n",
       "      <th>7</th>\n",
       "      <td>7.859</td>\n",
       "      <td>7.004</td>\n",
       "      <td>5.747</td>\n",
       "      <td>-1.336</td>\n",
       "      <td>3.870</td>\n",
       "      <td>orange</td>\n",
       "      <td>2014-01-01 07:00:00</td>\n",
       "    </tr>\n",
       "    <tr>\n",
       "      <th>8</th>\n",
       "      <td>7.449</td>\n",
       "      <td>4.126</td>\n",
       "      <td>3.658</td>\n",
       "      <td>-0.124</td>\n",
       "      <td>3.238</td>\n",
       "      <td>blue</td>\n",
       "      <td>2014-01-01 08:00:00</td>\n",
       "    </tr>\n",
       "    <tr>\n",
       "      <th>9</th>\n",
       "      <td>5.695</td>\n",
       "      <td>4.966</td>\n",
       "      <td>3.683</td>\n",
       "      <td>-0.168</td>\n",
       "      <td>5.388</td>\n",
       "      <td>orange</td>\n",
       "      <td>2014-01-01 09:00:00</td>\n",
       "    </tr>\n",
       "    <tr>\n",
       "      <th>10</th>\n",
       "      <td>6.845</td>\n",
       "      <td>5.252</td>\n",
       "      <td>3.852</td>\n",
       "      <td>0.160</td>\n",
       "      <td>4.400</td>\n",
       "      <td>green</td>\n",
       "      <td>2014-01-01 10:00:00</td>\n",
       "    </tr>\n",
       "    <tr>\n",
       "      <th>11</th>\n",
       "      <td>6.783</td>\n",
       "      <td>5.573</td>\n",
       "      <td>4.564</td>\n",
       "      <td>-1.874</td>\n",
       "      <td>5.597</td>\n",
       "      <td>orange</td>\n",
       "      <td>2014-01-01 11:00:00</td>\n",
       "    </tr>\n",
       "    <tr>\n",
       "      <th>12</th>\n",
       "      <td>8.641</td>\n",
       "      <td>6.950</td>\n",
       "      <td>2.042</td>\n",
       "      <td>0.113</td>\n",
       "      <td>3.588</td>\n",
       "      <td>yellow</td>\n",
       "      <td>2014-01-01 12:00:00</td>\n",
       "    </tr>\n",
       "    <tr>\n",
       "      <th>13</th>\n",
       "      <td>7.292</td>\n",
       "      <td>5.895</td>\n",
       "      <td>5.428</td>\n",
       "      <td>0.786</td>\n",
       "      <td>3.382</td>\n",
       "      <td>orange</td>\n",
       "      <td>2014-01-01 13:00:00</td>\n",
       "    </tr>\n",
       "    <tr>\n",
       "      <th>14</th>\n",
       "      <td>8.400</td>\n",
       "      <td>5.949</td>\n",
       "      <td>4.589</td>\n",
       "      <td>0.263</td>\n",
       "      <td>3.525</td>\n",
       "      <td>yellow</td>\n",
       "      <td>2014-01-01 14:00:00</td>\n",
       "    </tr>\n",
       "    <tr>\n",
       "      <th>15</th>\n",
       "      <td>7.641</td>\n",
       "      <td>6.123</td>\n",
       "      <td>2.652</td>\n",
       "      <td>0.937</td>\n",
       "      <td>2.811</td>\n",
       "      <td>red</td>\n",
       "      <td>2014-01-01 15:00:00</td>\n",
       "    </tr>\n",
       "    <tr>\n",
       "      <th>16</th>\n",
       "      <td>7.587</td>\n",
       "      <td>6.569</td>\n",
       "      <td>5.012</td>\n",
       "      <td>0.723</td>\n",
       "      <td>5.524</td>\n",
       "      <td>orange</td>\n",
       "      <td>2014-01-01 16:00:00</td>\n",
       "    </tr>\n",
       "    <tr>\n",
       "      <th>17</th>\n",
       "      <td>7.178</td>\n",
       "      <td>5.560</td>\n",
       "      <td>2.165</td>\n",
       "      <td>1.688</td>\n",
       "      <td>4.120</td>\n",
       "      <td>red</td>\n",
       "      <td>2014-01-01 17:00:00</td>\n",
       "    </tr>\n",
       "    <tr>\n",
       "      <th>18</th>\n",
       "      <td>8.959</td>\n",
       "      <td>6.449</td>\n",
       "      <td>4.580</td>\n",
       "      <td>1.091</td>\n",
       "      <td>4.936</td>\n",
       "      <td>yellow</td>\n",
       "      <td>2014-01-01 18:00:00</td>\n",
       "    </tr>\n",
       "    <tr>\n",
       "      <th>19</th>\n",
       "      <td>7.259</td>\n",
       "      <td>6.226</td>\n",
       "      <td>0.893</td>\n",
       "      <td>0.226</td>\n",
       "      <td>3.339</td>\n",
       "      <td>red</td>\n",
       "      <td>2014-01-01 19:00:00</td>\n",
       "    </tr>\n",
       "    <tr>\n",
       "      <th>20</th>\n",
       "      <td>8.029</td>\n",
       "      <td>5.607</td>\n",
       "      <td>1.515</td>\n",
       "      <td>2.769</td>\n",
       "      <td>4.279</td>\n",
       "      <td>red</td>\n",
       "      <td>2014-01-01 20:00:00</td>\n",
       "    </tr>\n",
       "    <tr>\n",
       "      <th>21</th>\n",
       "      <td>7.337</td>\n",
       "      <td>5.398</td>\n",
       "      <td>5.181</td>\n",
       "      <td>0.982</td>\n",
       "      <td>4.920</td>\n",
       "      <td>red</td>\n",
       "      <td>2014-01-01 21:00:00</td>\n",
       "    </tr>\n",
       "    <tr>\n",
       "      <th>22</th>\n",
       "      <td>7.407</td>\n",
       "      <td>5.447</td>\n",
       "      <td>4.082</td>\n",
       "      <td>0.389</td>\n",
       "      <td>1.932</td>\n",
       "      <td>red</td>\n",
       "      <td>2014-01-01 22:00:00</td>\n",
       "    </tr>\n",
       "    <tr>\n",
       "      <th>23</th>\n",
       "      <td>9.050</td>\n",
       "      <td>6.804</td>\n",
       "      <td>3.604</td>\n",
       "      <td>0.661</td>\n",
       "      <td>3.463</td>\n",
       "      <td>red</td>\n",
       "      <td>2014-01-01 23:00:00</td>\n",
       "    </tr>\n",
       "  </tbody>\n",
       "</table>\n",
       "</div>"
      ],
      "text/plain": [
       "        a      b      c      d      e   label                 date\n",
       "0   6.738  5.043  2.612  2.017  2.635  yellow  2014-01-01 00:00:00\n",
       "1   8.032  6.030  2.984  0.287  3.522    blue  2014-01-01 01:00:00\n",
       "2   7.288  4.429  3.178 -0.523  1.258  orange  2014-01-01 02:00:00\n",
       "3   8.310  6.659  4.678  0.145  2.682     red  2014-01-01 03:00:00\n",
       "4   9.695  8.344  2.891  2.202  4.723    blue  2014-01-01 04:00:00\n",
       "5   6.006  4.946  3.837  0.237  4.955    blue  2014-01-01 05:00:00\n",
       "6   7.843  7.378  5.291  0.762  4.695     red  2014-01-01 06:00:00\n",
       "7   7.859  7.004  5.747 -1.336  3.870  orange  2014-01-01 07:00:00\n",
       "8   7.449  4.126  3.658 -0.124  3.238    blue  2014-01-01 08:00:00\n",
       "9   5.695  4.966  3.683 -0.168  5.388  orange  2014-01-01 09:00:00\n",
       "10  6.845  5.252  3.852  0.160  4.400   green  2014-01-01 10:00:00\n",
       "11  6.783  5.573  4.564 -1.874  5.597  orange  2014-01-01 11:00:00\n",
       "12  8.641  6.950  2.042  0.113  3.588  yellow  2014-01-01 12:00:00\n",
       "13  7.292  5.895  5.428  0.786  3.382  orange  2014-01-01 13:00:00\n",
       "14  8.400  5.949  4.589  0.263  3.525  yellow  2014-01-01 14:00:00\n",
       "15  7.641  6.123  2.652  0.937  2.811     red  2014-01-01 15:00:00\n",
       "16  7.587  6.569  5.012  0.723  5.524  orange  2014-01-01 16:00:00\n",
       "17  7.178  5.560  2.165  1.688  4.120     red  2014-01-01 17:00:00\n",
       "18  8.959  6.449  4.580  1.091  4.936  yellow  2014-01-01 18:00:00\n",
       "19  7.259  6.226  0.893  0.226  3.339     red  2014-01-01 19:00:00\n",
       "20  8.029  5.607  1.515  2.769  4.279     red  2014-01-01 20:00:00\n",
       "21  7.337  5.398  5.181  0.982  4.920     red  2014-01-01 21:00:00\n",
       "22  7.407  5.447  4.082  0.389  1.932     red  2014-01-01 22:00:00\n",
       "23  9.050  6.804  3.604  0.661  3.463     red  2014-01-01 23:00:00"
      ]
     },
     "execution_count": 20,
     "metadata": {},
     "output_type": "execute_result"
    }
   ],
   "source": [
    "#tables are printed nicely\n",
    "#df is a dataframe\n",
    "df"
   ]
  },
  {
   "cell_type": "code",
   "execution_count": 21,
   "metadata": {},
   "outputs": [
    {
     "data": {
      "text/html": [
       "<img src=\"https://raw.githubusercontent.com/valentinegarikayi/Getting-Started-/master/img/logo.jpg\" width=\"100\" height=\"100\"/>"
      ],
      "text/plain": [
       "<IPython.core.display.Image object>"
      ]
     },
     "execution_count": 21,
     "metadata": {},
     "output_type": "execute_result"
    }
   ],
   "source": [
    "#add images\n",
    "Image(url= \"https://raw.githubusercontent.com/valentinegarikayi/Getting-Started-/master/img/logo.jpg\", \n",
    "      width=100, height=100)\n"
   ]
  },
  {
   "cell_type": "code",
   "execution_count": 23,
   "metadata": {},
   "outputs": [
    {
     "data": {
      "text/plain": [
       "<matplotlib.axes._subplots.AxesSubplot at 0x7ff888e65cc0>"
      ]
     },
     "execution_count": 23,
     "metadata": {},
     "output_type": "execute_result"
    },
    {
     "data": {
      "image/png": "[encoded data removed]",
      "text/plain": [
       "<matplotlib.figure.Figure at 0x7ff88c7e4ba8>"
      ]
     },
     "metadata": {},
     "output_type": "display_data"
    },
    {
     "data": {
      "image/png": "[encoded data removed]",
      "text/plain": [
       "<matplotlib.figure.Figure at 0x7ff8c1a2c518>"
      ]
     },
     "metadata": {},
     "output_type": "display_data"
    }
   ],
   "source": [
    "#make mpl plots\n",
    "\n",
    "x=df.a\n",
    "y=df.b\n",
    "fig,ax=plt.subplots(figsize=(6,6))\n",
    "plt.scatter(x,y,s=100,c='r',edgecolor='black')\n",
    "\n",
    "#we can also pliot direct using pandas\n",
    "df.plot('a','b',kind='scatter',figsize=(6,6),s=100)"
   ]
  },
  {
   "cell_type": "code",
   "execution_count": 43,
   "metadata": {
    "collapsed": true
   },
   "outputs": [],
   "source": [
    "import random\n",
    "x=range(200)\n",
    "y=[random.random()*i for i in x]"
   ]
  },
  {
   "cell_type": "code",
   "execution_count": 60,
   "metadata": {},
   "outputs": [
    {
     "data": {
      "text/plain": [
       "(array([ 73.,  44.,  23.,  14.,  14.,  12.,   6.,   7.,   5.,   2.]),\n",
       " array([   0.        ,   18.46522832,   36.93045663,   55.39568495,\n",
       "          73.86091327,   92.32614158,  110.7913699 ,  129.25659822,\n",
       "         147.72182654,  166.18705485,  184.65228317]),\n",
       " <a list of 10 Patch objects>)"
      ]
     },
     "execution_count": 60,
     "metadata": {},
     "output_type": "execute_result"
    },
    {
     "data": {
      "image/png": "[encoded data removed]",
      "text/plain": [
       "<matplotlib.figure.Figure at 0x7ff8882c2278>"
      ]
     },
     "metadata": {},
     "output_type": "display_data"
    }
   ],
   "source": [
    "fig,axs = plt.subplots(1,2,figsize=(10,6))\n",
    "ax = axs[0]\n",
    "ax.scatter(x,y,s=200,c='r',edgecolor='black',alpha=0.5,marker='s')\n",
    "x2=axs[1]\n",
    "x2.hist(y)"
   ]
  },
  {
   "cell_type": "code",
   "execution_count": 47,
   "metadata": {},
   "outputs": [
    {
     "data": {
      "text/plain": [
       "13"
      ]
     },
     "execution_count": 47,
     "metadata": {},
     "output_type": "execute_result"
    }
   ],
   "source": [
    "#default parameters on functions- how it works!\n",
    "def add(a=2,b=3):\n",
    "    return a+b\n",
    "add(6,7)"
   ]
  },
  {
   "cell_type": "code",
   "execution_count": 59,
   "metadata": {},
   "outputs": [
    {
     "name": "stdout",
     "output_type": "stream",
     "text": [
      "Help on function scatter in module matplotlib.pyplot:\n",
      "\n",
      "scatter(x, y, s=None, c=None, marker=None, cmap=None, norm=None, vmin=None, vmax=None, alpha=None, linewidths=None, verts=None, edgecolors=None, hold=None, data=None, **kwargs)\n",
      "    Make a scatter plot of `x` vs `y`\n",
      "    \n",
      "    Marker size is scaled by `s` and marker color is mapped to `c`\n",
      "    \n",
      "    Parameters\n",
      "    ----------\n",
      "    x, y : array_like, shape (n, )\n",
      "        Input data\n",
      "    \n",
      "    s : scalar or array_like, shape (n, ), optional\n",
      "        size in points^2.  Default is `rcParams['lines.markersize'] ** 2`.\n",
      "    \n",
      "    c : color, sequence, or sequence of color, optional, default: 'b'\n",
      "        `c` can be a single color format string, or a sequence of color\n",
      "        specifications of length `N`, or a sequence of `N` numbers to be\n",
      "        mapped to colors using the `cmap` and `norm` specified via kwargs\n",
      "        (see below). Note that `c` should not be a single numeric RGB or\n",
      "        RGBA sequence because that is indistinguishable from an array of\n",
      "        values to be colormapped.  `c` can be a 2-D array in which the\n",
      "        rows are RGB or RGBA, however, including the case of a single\n",
      "        row to specify the same color for all points.\n",
      "    \n",
      "    marker : `~matplotlib.markers.MarkerStyle`, optional, default: 'o'\n",
      "        See `~matplotlib.markers` for more information on the different\n",
      "        styles of markers scatter supports. `marker` can be either\n",
      "        an instance of the class or the text shorthand for a particular\n",
      "        marker.\n",
      "    \n",
      "    cmap : `~matplotlib.colors.Colormap`, optional, default: None\n",
      "        A `~matplotlib.colors.Colormap` instance or registered name.\n",
      "        `cmap` is only used if `c` is an array of floats. If None,\n",
      "        defaults to rc `image.cmap`.\n",
      "    \n",
      "    norm : `~matplotlib.colors.Normalize`, optional, default: None\n",
      "        A `~matplotlib.colors.Normalize` instance is used to scale\n",
      "        luminance data to 0, 1. `norm` is only used if `c` is an array of\n",
      "        floats. If `None`, use the default :func:`normalize`.\n",
      "    \n",
      "    vmin, vmax : scalar, optional, default: None\n",
      "        `vmin` and `vmax` are used in conjunction with `norm` to normalize\n",
      "        luminance data.  If either are `None`, the min and max of the\n",
      "        color array is used.  Note if you pass a `norm` instance, your\n",
      "        settings for `vmin` and `vmax` will be ignored.\n",
      "    \n",
      "    alpha : scalar, optional, default: None\n",
      "        The alpha blending value, between 0 (transparent) and 1 (opaque)\n",
      "    \n",
      "    linewidths : scalar or array_like, optional, default: None\n",
      "        If None, defaults to (lines.linewidth,).\n",
      "    \n",
      "    verts : sequence of (x, y), optional\n",
      "        If `marker` is None, these vertices will be used to\n",
      "        construct the marker.  The center of the marker is located\n",
      "        at (0,0) in normalized units.  The overall marker is rescaled\n",
      "        by ``s``.\n",
      "    \n",
      "    edgecolors : color or sequence of color, optional, default: None\n",
      "        If None, defaults to 'face'\n",
      "    \n",
      "        If 'face', the edge color will always be the same as\n",
      "        the face color.\n",
      "    \n",
      "        If it is 'none', the patch boundary will not\n",
      "        be drawn.\n",
      "    \n",
      "        For non-filled markers, the `edgecolors` kwarg\n",
      "        is ignored and forced to 'face' internally.\n",
      "    \n",
      "    Returns\n",
      "    -------\n",
      "    paths : `~matplotlib.collections.PathCollection`\n",
      "    \n",
      "    Other parameters\n",
      "    ----------------\n",
      "    kwargs : `~matplotlib.collections.Collection` properties\n",
      "    \n",
      "    See Also\n",
      "    --------\n",
      "    plot : to plot scatter plots when markers are identical in size and\n",
      "        color\n",
      "    \n",
      "    Notes\n",
      "    -----\n",
      "    \n",
      "    * The `plot` function will be faster for scatterplots where markers\n",
      "      don't vary in size or color.\n",
      "    \n",
      "    * Any or all of `x`, `y`, `s`, and `c` may be masked arrays, in which\n",
      "      case all masks will be combined and only unmasked points will be\n",
      "      plotted.\n",
      "    \n",
      "      Fundamentally, scatter works with 1-D arrays; `x`, `y`, `s`, and `c`\n",
      "      may be input as 2-D arrays, but within scatter they will be\n",
      "      flattened. The exception is `c`, which will be flattened only if its\n",
      "      size matches the size of `x` and `y`.\n",
      "    \n",
      "    Examples\n",
      "    --------\n",
      "    .. plot:: mpl_examples/shapes_and_collections/scatter_demo.py\n",
      "    \n",
      "    .. note::\n",
      "        In addition to the above described arguments, this function can take a\n",
      "        **data** keyword argument. If such a **data** argument is given, the\n",
      "        following arguments are replaced by **data[<arg>]**:\n",
      "    \n",
      "        * All arguments with the following names: 'c', 'color', 'edgecolors', 'facecolor', 'facecolors', 'linewidths', 's', 'x', 'y'.\n",
      "\n"
     ]
    }
   ],
   "source": [
    "help(plt.scatter)"
   ]
  },
  {
   "cell_type": "code",
   "execution_count": 85,
   "metadata": {
    "collapsed": true
   },
   "outputs": [],
   "source": [
    "class Book(object):\n",
    "    def __init__(self,title):\n",
    "       self.title = title"
   ]
  },
  {
   "cell_type": "code",
   "execution_count": 86,
   "metadata": {},
   "outputs": [
    {
     "data": {
      "text/plain": [
       "__main__.book"
      ]
     },
     "execution_count": 86,
     "metadata": {},
     "output_type": "execute_result"
    }
   ],
   "source": [
    "book"
   ]
  },
  {
   "cell_type": "code",
   "execution_count": 87,
   "metadata": {},
   "outputs": [
    {
     "name": "stdout",
     "output_type": "stream",
     "text": [
      "<__main__.Book object at 0x7ff887a6d080>\n"
     ]
    }
   ],
   "source": [
    "b=Book('Animal Farm')\n",
    "print(b)"
   ]
  },
  {
   "cell_type": "code",
   "execution_count": 88,
   "metadata": {},
   "outputs": [
    {
     "name": "stdout",
     "output_type": "stream",
     "text": [
      "James Bond\n"
     ]
    }
   ],
   "source": [
    "b1=Book('James Bond')\n",
    "b.tittle='xxx'\n",
    "print (b1.title)"
   ]
  },
  {
   "cell_type": "markdown",
   "metadata": {},
   "source": []
  }
 ],
 "metadata": {
  "kernelspec": {
   "display_name": "Python 3",
   "language": "python",
   "name": "python3"
  },
  "language_info": {
   "codemirror_mode": {
    "name": "ipython",
    "version": 3
   },
   "file_extension": ".py",
   "mimetype": "text/x-python",
   "name": "python",
   "nbconvert_exporter": "python",
   "pygments_lexer": "ipython3",
   "version": "3.5.3"
  }
 },
 "nbformat": 4,
 "nbformat_minor": 2
}
