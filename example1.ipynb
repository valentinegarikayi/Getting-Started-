{
 "cells": [
  {
   "cell_type": "markdown",
   "metadata": {},
   "source": [
    "### This is written in markdown \n",
    "\n",
    "Double click to edit this..\n",
    "\n",
    "**bold**\n",
    "\n",
    " * bullet\n",
    " * points"
   ]
  },
  {
   "cell_type": "code",
   "execution_count": 11,
   "metadata": {
    "collapsed": true
   },
   "outputs": [],
   "source": [
    "#put your imports at the top\n",
    "\n",
    "import sys, os\n",
    "import pandas as pd\n",
    "%matplotlib inline\n",
    "import matplotlib.pyplot as plt\n",
    "from IPython.display import Image\n",
    "from IPython.core.display import HTML "
   ]
  },
  {
   "cell_type": "code",
   "execution_count": 3,
   "metadata": {},
   "outputs": [
    {
     "name": "stdout",
     "output_type": "stream",
     "text": [
      "1\n",
      "3\n",
      "5\n",
      "7\n",
      "9\n",
      "11\n",
      "13\n",
      "15\n",
      "17\n",
      "19\n"
     ]
    }
   ],
   "source": [
    "#comments are the same\n",
    "#here is a loop\n",
    "\n",
    "for i in range(1,20,2):\n",
    "    print (i)"
   ]
  },
  {
   "cell_type": "code",
   "execution_count": 47,
   "metadata": {},
   "outputs": [
    {
     "name": "stdout",
     "output_type": "stream",
     "text": [
      "dict_keys(['b', 'a'])\n",
      "('b', 21)\n",
      "('a', 3)\n"
     ]
    }
   ],
   "source": [
    "d={'a':3,'b':21}\n",
    "print (d.keys())\n",
    "\n",
    "for i in d.items(): \n",
    "    print(i)"
   ]
  },
  {
   "cell_type": "code",
   "execution_count": 7,
   "metadata": {
    "collapsed": true
   },
   "outputs": [],
   "source": [
    "#read a csv file using pandas\n",
    "df = pd.read_csv('test.csv')"
   ]
  },
  {
   "cell_type": "code",
   "execution_count": 37,
   "metadata": {},
   "outputs": [
    {
     "data": {
      "text/html": [
       "<div>\n",
       "<style>\n",
       "    .dataframe thead tr:only-child th {\n",
       "        text-align: right;\n",
       "    }\n",
       "\n",
       "    .dataframe thead th {\n",
       "        text-align: left;\n",
       "    }\n",
       "\n",
       "    .dataframe tbody tr th {\n",
       "        vertical-align: top;\n",
       "    }\n",
       "</style>\n",
       "<table border=\"1\" class=\"dataframe\">\n",
       "  <thead>\n",
       "    <tr style=\"text-align: right;\">\n",
       "      <th></th>\n",
       "      <th>a</th>\n",
       "      <th>b</th>\n",
       "      <th>c</th>\n",
       "      <th>d</th>\n",
       "      <th>e</th>\n",
       "      <th>label</th>\n",
       "      <th>date</th>\n",
       "    </tr>\n",
       "  </thead>\n",
       "  <tbody>\n",
       "    <tr>\n",
       "      <th>0</th>\n",
       "      <td>6.738</td>\n",
       "      <td>5.043</td>\n",
       "      <td>2.612</td>\n",
       "      <td>2.017</td>\n",
       "      <td>2.635</td>\n",
       "      <td>yellow</td>\n",
       "      <td>2014-01-01 00:00:00</td>\n",
       "    </tr>\n",
       "    <tr>\n",
       "      <th>1</th>\n",
       "      <td>8.032</td>\n",
       "      <td>6.030</td>\n",
       "      <td>2.984</td>\n",
       "      <td>0.287</td>\n",
       "      <td>3.522</td>\n",
       "      <td>blue</td>\n",
       "      <td>2014-01-01 01:00:00</td>\n",
       "    </tr>\n",
       "    <tr>\n",
       "      <th>2</th>\n",
       "      <td>7.288</td>\n",
       "      <td>4.429</td>\n",
       "      <td>3.178</td>\n",
       "      <td>-0.523</td>\n",
       "      <td>1.258</td>\n",
       "      <td>orange</td>\n",
       "      <td>2014-01-01 02:00:00</td>\n",
       "    </tr>\n",
       "    <tr>\n",
       "      <th>3</th>\n",
       "      <td>8.310</td>\n",
       "      <td>6.659</td>\n",
       "      <td>4.678</td>\n",
       "      <td>0.145</td>\n",
       "      <td>2.682</td>\n",
       "      <td>red</td>\n",
       "      <td>2014-01-01 03:00:00</td>\n",
       "    </tr>\n",
       "    <tr>\n",
       "      <th>4</th>\n",
       "      <td>9.695</td>\n",
       "      <td>8.344</td>\n",
       "      <td>2.891</td>\n",
       "      <td>2.202</td>\n",
       "      <td>4.723</td>\n",
       "      <td>blue</td>\n",
       "      <td>2014-01-01 04:00:00</td>\n",
       "    </tr>\n",
       "    <tr>\n",
       "      <th>5</th>\n",
       "      <td>6.006</td>\n",
       "      <td>4.946</td>\n",
       "      <td>3.837</td>\n",
       "      <td>0.237</td>\n",
       "      <td>4.955</td>\n",
       "      <td>blue</td>\n",
       "      <td>2014-01-01 05:00:00</td>\n",
       "    </tr>\n",
       "    <tr>\n",
       "      <th>6</th>\n",
       "      <td>7.843</td>\n",
       "      <td>7.378</td>\n",
       "      <td>5.291</td>\n",
       "      <td>0.762</td>\n",
       "      <td>4.695</td>\n",
       "      <td>red</td>\n",
       "      <td>2014-01-01 06:00:00</td>\n",
       "    </tr>\n",
       "    <tr>\n",
       "      <th>7</th>\n",
       "      <td>7.859</td>\n",
       "      <td>7.004</td>\n",
       "      <td>5.747</td>\n",
       "      <td>-1.336</td>\n",
       "      <td>3.870</td>\n",
       "      <td>orange</td>\n",
       "      <td>2014-01-01 07:00:00</td>\n",
       "    </tr>\n",
       "    <tr>\n",
       "      <th>8</th>\n",
       "      <td>7.449</td>\n",
       "      <td>4.126</td>\n",
       "      <td>3.658</td>\n",
       "      <td>-0.124</td>\n",
       "      <td>3.238</td>\n",
       "      <td>blue</td>\n",
       "      <td>2014-01-01 08:00:00</td>\n",
       "    </tr>\n",
       "    <tr>\n",
       "      <th>9</th>\n",
       "      <td>5.695</td>\n",
       "      <td>4.966</td>\n",
       "      <td>3.683</td>\n",
       "      <td>-0.168</td>\n",
       "      <td>5.388</td>\n",
       "      <td>orange</td>\n",
       "      <td>2014-01-01 09:00:00</td>\n",
       "    </tr>\n",
       "    <tr>\n",
       "      <th>10</th>\n",
       "      <td>6.845</td>\n",
       "      <td>5.252</td>\n",
       "      <td>3.852</td>\n",
       "      <td>0.160</td>\n",
       "      <td>4.400</td>\n",
       "      <td>green</td>\n",
       "      <td>2014-01-01 10:00:00</td>\n",
       "    </tr>\n",
       "    <tr>\n",
       "      <th>11</th>\n",
       "      <td>6.783</td>\n",
       "      <td>5.573</td>\n",
       "      <td>4.564</td>\n",
       "      <td>-1.874</td>\n",
       "      <td>5.597</td>\n",
       "      <td>orange</td>\n",
       "      <td>2014-01-01 11:00:00</td>\n",
       "    </tr>\n",
       "    <tr>\n",
       "      <th>12</th>\n",
       "      <td>8.641</td>\n",
       "      <td>6.950</td>\n",
       "      <td>2.042</td>\n",
       "      <td>0.113</td>\n",
       "      <td>3.588</td>\n",
       "      <td>yellow</td>\n",
       "      <td>2014-01-01 12:00:00</td>\n",
       "    </tr>\n",
       "    <tr>\n",
       "      <th>13</th>\n",
       "      <td>7.292</td>\n",
       "      <td>5.895</td>\n",
       "      <td>5.428</td>\n",
       "      <td>0.786</td>\n",
       "      <td>3.382</td>\n",
       "      <td>orange</td>\n",
       "      <td>2014-01-01 13:00:00</td>\n",
       "    </tr>\n",
       "    <tr>\n",
       "      <th>14</th>\n",
       "      <td>8.400</td>\n",
       "      <td>5.949</td>\n",
       "      <td>4.589</td>\n",
       "      <td>0.263</td>\n",
       "      <td>3.525</td>\n",
       "      <td>yellow</td>\n",
       "      <td>2014-01-01 14:00:00</td>\n",
       "    </tr>\n",
       "    <tr>\n",
       "      <th>15</th>\n",
       "      <td>7.641</td>\n",
       "      <td>6.123</td>\n",
       "      <td>2.652</td>\n",
       "      <td>0.937</td>\n",
       "      <td>2.811</td>\n",
       "      <td>red</td>\n",
       "      <td>2014-01-01 15:00:00</td>\n",
       "    </tr>\n",
       "    <tr>\n",
       "      <th>16</th>\n",
       "      <td>7.587</td>\n",
       "      <td>6.569</td>\n",
       "      <td>5.012</td>\n",
       "      <td>0.723</td>\n",
       "      <td>5.524</td>\n",
       "      <td>orange</td>\n",
       "      <td>2014-01-01 16:00:00</td>\n",
       "    </tr>\n",
       "    <tr>\n",
       "      <th>17</th>\n",
       "      <td>7.178</td>\n",
       "      <td>5.560</td>\n",
       "      <td>2.165</td>\n",
       "      <td>1.688</td>\n",
       "      <td>4.120</td>\n",
       "      <td>red</td>\n",
       "      <td>2014-01-01 17:00:00</td>\n",
       "    </tr>\n",
       "    <tr>\n",
       "      <th>18</th>\n",
       "      <td>8.959</td>\n",
       "      <td>6.449</td>\n",
       "      <td>4.580</td>\n",
       "      <td>1.091</td>\n",
       "      <td>4.936</td>\n",
       "      <td>yellow</td>\n",
       "      <td>2014-01-01 18:00:00</td>\n",
       "    </tr>\n",
       "    <tr>\n",
       "      <th>19</th>\n",
       "      <td>7.259</td>\n",
       "      <td>6.226</td>\n",
       "      <td>0.893</td>\n",
       "      <td>0.226</td>\n",
       "      <td>3.339</td>\n",
       "      <td>red</td>\n",
       "      <td>2014-01-01 19:00:00</td>\n",
       "    </tr>\n",
       "    <tr>\n",
       "      <th>20</th>\n",
       "      <td>8.029</td>\n",
       "      <td>5.607</td>\n",
       "      <td>1.515</td>\n",
       "      <td>2.769</td>\n",
       "      <td>4.279</td>\n",
       "      <td>red</td>\n",
       "      <td>2014-01-01 20:00:00</td>\n",
       "    </tr>\n",
       "    <tr>\n",
       "      <th>21</th>\n",
       "      <td>7.337</td>\n",
       "      <td>5.398</td>\n",
       "      <td>5.181</td>\n",
       "      <td>0.982</td>\n",
       "      <td>4.920</td>\n",
       "      <td>red</td>\n",
       "      <td>2014-01-01 21:00:00</td>\n",
       "    </tr>\n",
       "    <tr>\n",
       "      <th>22</th>\n",
       "      <td>7.407</td>\n",
       "      <td>5.447</td>\n",
       "      <td>4.082</td>\n",
       "      <td>0.389</td>\n",
       "      <td>1.932</td>\n",
       "      <td>red</td>\n",
       "      <td>2014-01-01 22:00:00</td>\n",
       "    </tr>\n",
       "    <tr>\n",
       "      <th>23</th>\n",
       "      <td>9.050</td>\n",
       "      <td>6.804</td>\n",
       "      <td>3.604</td>\n",
       "      <td>0.661</td>\n",
       "      <td>3.463</td>\n",
       "      <td>red</td>\n",
       "      <td>2014-01-01 23:00:00</td>\n",
       "    </tr>\n",
       "  </tbody>\n",
       "</table>\n",
       "</div>"
      ],
      "text/plain": [
       "        a      b      c      d      e   label                 date\n",
       "0   6.738  5.043  2.612  2.017  2.635  yellow  2014-01-01 00:00:00\n",
       "1   8.032  6.030  2.984  0.287  3.522    blue  2014-01-01 01:00:00\n",
       "2   7.288  4.429  3.178 -0.523  1.258  orange  2014-01-01 02:00:00\n",
       "3   8.310  6.659  4.678  0.145  2.682     red  2014-01-01 03:00:00\n",
       "4   9.695  8.344  2.891  2.202  4.723    blue  2014-01-01 04:00:00\n",
       "5   6.006  4.946  3.837  0.237  4.955    blue  2014-01-01 05:00:00\n",
       "6   7.843  7.378  5.291  0.762  4.695     red  2014-01-01 06:00:00\n",
       "7   7.859  7.004  5.747 -1.336  3.870  orange  2014-01-01 07:00:00\n",
       "8   7.449  4.126  3.658 -0.124  3.238    blue  2014-01-01 08:00:00\n",
       "9   5.695  4.966  3.683 -0.168  5.388  orange  2014-01-01 09:00:00\n",
       "10  6.845  5.252  3.852  0.160  4.400   green  2014-01-01 10:00:00\n",
       "11  6.783  5.573  4.564 -1.874  5.597  orange  2014-01-01 11:00:00\n",
       "12  8.641  6.950  2.042  0.113  3.588  yellow  2014-01-01 12:00:00\n",
       "13  7.292  5.895  5.428  0.786  3.382  orange  2014-01-01 13:00:00\n",
       "14  8.400  5.949  4.589  0.263  3.525  yellow  2014-01-01 14:00:00\n",
       "15  7.641  6.123  2.652  0.937  2.811     red  2014-01-01 15:00:00\n",
       "16  7.587  6.569  5.012  0.723  5.524  orange  2014-01-01 16:00:00\n",
       "17  7.178  5.560  2.165  1.688  4.120     red  2014-01-01 17:00:00\n",
       "18  8.959  6.449  4.580  1.091  4.936  yellow  2014-01-01 18:00:00\n",
       "19  7.259  6.226  0.893  0.226  3.339     red  2014-01-01 19:00:00\n",
       "20  8.029  5.607  1.515  2.769  4.279     red  2014-01-01 20:00:00\n",
       "21  7.337  5.398  5.181  0.982  4.920     red  2014-01-01 21:00:00\n",
       "22  7.407  5.447  4.082  0.389  1.932     red  2014-01-01 22:00:00\n",
       "23  9.050  6.804  3.604  0.661  3.463     red  2014-01-01 23:00:00"
      ]
     },
     "execution_count": 37,
     "metadata": {},
     "output_type": "execute_result"
    }
   ],
   "source": [
    "#tables are printed nicely\n",
    "#df is a dataframe\n",
    "df"
   ]
  },
  {
   "cell_type": "code",
   "execution_count": 36,
   "metadata": {},
   "outputs": [
    {
     "data": {
      "text/html": [
       "<img src=\"https://raw.githubusercontent.com/valentinegarikayi/Getting-Started-/master/img/logo.jpg\" width=\"100\" height=\"100\"/>"
      ],
      "text/plain": [
       "<IPython.core.display.Image object>"
      ]
     },
     "execution_count": 36,
     "metadata": {},
     "output_type": "execute_result"
    }
   ],
   "source": [
    "#add images\n",
    "Image(url= \"https://raw.githubusercontent.com/valentinegarikayi/Getting-Started-/master/img/logo.jpg\", \n",
    "      width=100, height=100)\n"
   ]
  },
  {
   "cell_type": "code",
   "execution_count": 33,
   "metadata": {},
   "outputs": [
    {
     "data": {
      "text/plain": [
       "<matplotlib.axes._subplots.AxesSubplot at 0x7fe9719aecc0>"
      ]
     },
     "execution_count": 33,
     "metadata": {},
     "output_type": "execute_result"
    },
    {
     "data": {
      "image/png": "[encoded data removed]",
      "text/plain": [
       "<matplotlib.figure.Figure at 0x7fe9719ce9e8>"
      ]
     },
     "metadata": {},
     "output_type": "display_data"
    },
    {
     "data": {
      "image/png": "[encoded data removed]",
      "text/plain": [
       "<matplotlib.figure.Figure at 0x7fe9719ae3c8>"
      ]
     },
     "metadata": {},
     "output_type": "display_data"
    }
   ],
   "source": [
    "#make mpl plots\n",
    "\n",
    "x=df.a\n",
    "y=df.b\n",
    "fig,ax=plt.subplots(figsize=(6,6))\n",
    "plt.scatter(x,y,s=100,c='r',edgecolor='black')\n",
    "\n",
    "#we can also pliot direct using pandas\n",
    "df.plot('a','b',kind='scatter',figsize=(6,6),s=100)"
   ]
  },
  {
   "cell_type": "code",
   "execution_count": null,
   "metadata": {
    "collapsed": true
   },
   "outputs": [],
   "source": []
  }
 ],
 "metadata": {
  "kernelspec": {
   "display_name": "Python 3",
   "language": "python",
   "name": "python3"
  },
  "language_info": {
   "codemirror_mode": {
    "name": "ipython",
    "version": 3
   },
   "file_extension": ".py",
   "mimetype": "text/x-python",
   "name": "python",
   "nbconvert_exporter": "python",
   "pygments_lexer": "ipython3",
   "version": "3.5.3"
  }
 },
 "nbformat": 4,
 "nbformat_minor": 2
}
